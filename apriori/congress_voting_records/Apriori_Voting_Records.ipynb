{
 "cells": [
  {
   "cell_type": "code",
   "execution_count": 1,
   "metadata": {},
   "outputs": [],
   "source": [
    "#lib para facilitar o uso de dataframes\n",
    "import pandas as pd\n",
    "#lib para facilitar alguns cálculos\n",
    "import numpy as np\n",
    "#Lib para auxiliar o processo de count\n",
    "from collections import Counter\n",
    "\n",
    "import itertools"
   ]
  },
  {
   "cell_type": "code",
   "execution_count": 2,
   "metadata": {},
   "outputs": [],
   "source": [
    "#lendo o csv com o dataset pronto\n",
    "df_voting = pd.read_csv('data/cleaned_voting.csv')"
   ]
  },
  {
   "cell_type": "code",
   "execution_count": 3,
   "metadata": {
    "scrolled": true
   },
   "outputs": [
    {
     "data": {
      "text/html": [
       "<div>\n",
       "<style scoped>\n",
       "    .dataframe tbody tr th:only-of-type {\n",
       "        vertical-align: middle;\n",
       "    }\n",
       "\n",
       "    .dataframe tbody tr th {\n",
       "        vertical-align: top;\n",
       "    }\n",
       "\n",
       "    .dataframe thead th {\n",
       "        text-align: right;\n",
       "    }\n",
       "</style>\n",
       "<table border=\"1\" class=\"dataframe\">\n",
       "  <thead>\n",
       "    <tr style=\"text-align: right;\">\n",
       "      <th></th>\n",
       "      <th>p_1</th>\n",
       "      <th>p_2</th>\n",
       "      <th>p_3</th>\n",
       "      <th>p_4</th>\n",
       "      <th>p_5</th>\n",
       "      <th>p_6</th>\n",
       "      <th>p_7</th>\n",
       "      <th>p_8</th>\n",
       "      <th>p_9</th>\n",
       "      <th>p_10</th>\n",
       "      <th>p_11</th>\n",
       "      <th>p_12</th>\n",
       "      <th>p_13</th>\n",
       "      <th>p_14</th>\n",
       "      <th>p_15</th>\n",
       "      <th>p_16</th>\n",
       "      <th>partido_democrat</th>\n",
       "      <th>partido_republican</th>\n",
       "    </tr>\n",
       "  </thead>\n",
       "  <tbody>\n",
       "    <tr>\n",
       "      <th>0</th>\n",
       "      <td>y</td>\n",
       "      <td>n</td>\n",
       "      <td>y</td>\n",
       "      <td>n</td>\n",
       "      <td>y</td>\n",
       "      <td>y</td>\n",
       "      <td>n</td>\n",
       "      <td>y</td>\n",
       "      <td>y</td>\n",
       "      <td>n</td>\n",
       "      <td>y</td>\n",
       "      <td>n</td>\n",
       "      <td>n</td>\n",
       "      <td>n</td>\n",
       "      <td>y</td>\n",
       "      <td>y</td>\n",
       "      <td>y</td>\n",
       "      <td>n</td>\n",
       "    </tr>\n",
       "    <tr>\n",
       "      <th>1</th>\n",
       "      <td>n</td>\n",
       "      <td>n</td>\n",
       "      <td>n</td>\n",
       "      <td>y</td>\n",
       "      <td>y</td>\n",
       "      <td>n</td>\n",
       "      <td>n</td>\n",
       "      <td>n</td>\n",
       "      <td>n</td>\n",
       "      <td>y</td>\n",
       "      <td>n</td>\n",
       "      <td>y</td>\n",
       "      <td>y</td>\n",
       "      <td>y</td>\n",
       "      <td>n</td>\n",
       "      <td>n</td>\n",
       "      <td>n</td>\n",
       "      <td>y</td>\n",
       "    </tr>\n",
       "    <tr>\n",
       "      <th>2</th>\n",
       "      <td>n</td>\n",
       "      <td>n</td>\n",
       "      <td>y</td>\n",
       "      <td>n</td>\n",
       "      <td>n</td>\n",
       "      <td>n</td>\n",
       "      <td>y</td>\n",
       "      <td>y</td>\n",
       "      <td>y</td>\n",
       "      <td>y</td>\n",
       "      <td>y</td>\n",
       "      <td>n</td>\n",
       "      <td>n</td>\n",
       "      <td>n</td>\n",
       "      <td>y</td>\n",
       "      <td>y</td>\n",
       "      <td>y</td>\n",
       "      <td>n</td>\n",
       "    </tr>\n",
       "    <tr>\n",
       "      <th>3</th>\n",
       "      <td>y</td>\n",
       "      <td>n</td>\n",
       "      <td>y</td>\n",
       "      <td>n</td>\n",
       "      <td>n</td>\n",
       "      <td>n</td>\n",
       "      <td>y</td>\n",
       "      <td>y</td>\n",
       "      <td>y</td>\n",
       "      <td>n</td>\n",
       "      <td>y</td>\n",
       "      <td>n</td>\n",
       "      <td>n</td>\n",
       "      <td>n</td>\n",
       "      <td>y</td>\n",
       "      <td>y</td>\n",
       "      <td>y</td>\n",
       "      <td>n</td>\n",
       "    </tr>\n",
       "    <tr>\n",
       "      <th>4</th>\n",
       "      <td>n</td>\n",
       "      <td>y</td>\n",
       "      <td>n</td>\n",
       "      <td>y</td>\n",
       "      <td>y</td>\n",
       "      <td>y</td>\n",
       "      <td>n</td>\n",
       "      <td>n</td>\n",
       "      <td>n</td>\n",
       "      <td>n</td>\n",
       "      <td>n</td>\n",
       "      <td>y</td>\n",
       "      <td>y</td>\n",
       "      <td>y</td>\n",
       "      <td>n</td>\n",
       "      <td>y</td>\n",
       "      <td>n</td>\n",
       "      <td>y</td>\n",
       "    </tr>\n",
       "  </tbody>\n",
       "</table>\n",
       "</div>"
      ],
      "text/plain": [
       "  p_1 p_2 p_3 p_4 p_5 p_6 p_7 p_8 p_9 p_10 p_11 p_12 p_13 p_14 p_15 p_16  \\\n",
       "0   y   n   y   n   y   y   n   y   y    n    y    n    n    n    y    y   \n",
       "1   n   n   n   y   y   n   n   n   n    y    n    y    y    y    n    n   \n",
       "2   n   n   y   n   n   n   y   y   y    y    y    n    n    n    y    y   \n",
       "3   y   n   y   n   n   n   y   y   y    n    y    n    n    n    y    y   \n",
       "4   n   y   n   y   y   y   n   n   n    n    n    y    y    y    n    y   \n",
       "\n",
       "  partido_democrat partido_republican  \n",
       "0                y                  n  \n",
       "1                n                  y  \n",
       "2                y                  n  \n",
       "3                y                  n  \n",
       "4                n                  y  "
      ]
     },
     "execution_count": 3,
     "metadata": {},
     "output_type": "execute_result"
    }
   ],
   "source": [
    "#Confirmando o formato dos dados\n",
    "df_voting.head()"
   ]
  },
  {
   "cell_type": "markdown",
   "metadata": {},
   "source": [
    "# Regras de associacao"
   ]
  },
  {
   "cell_type": "markdown",
   "metadata": {},
   "source": [
    "Regras de associacao sao tecnicas de mineiracao de dados usadas para descobrir associacoes interessantes entre atributos de um determinado banco de dados.\n",
    "A definicao classica de regras de associacao foi apresentada em Agrawal, Imielinski, & Swami (1993) and Han & Kamber, (2006)), e e definida como o seguinte:\n",
    "\n",
    "Seja T {t1,t2...tn} um conjunto de transacoes e I {i1,i2...in} um conjunto de itens, definimos D como o dado relevante para a tarefa sendo um conjunto de transacoes onde cada T e um conjunto de itens de maneira que T seja um subconjunto de I.\n",
    "\n",
    "Uma regra de associacao tem a forma X -> Y, onde X e Y sao conjuntos disjuntos"
   ]
  },
  {
   "cell_type": "markdown",
   "metadata": {},
   "source": [
    "Em nosso dataset as transacoes T representao o conjunto de votos de cada representante, e os Itens representao a reposta ao voto para cada projeto."
   ]
  },
  {
   "cell_type": "markdown",
   "metadata": {},
   "source": [
    "O algoritmo aprior é usado para encontrar conjuntos frequentes de items em databases como o nosso.\n",
    "Ele funciona com a afirmativa que:\n",
    "> Um sub conjunto de um conjunto frequente provavelmente e trambem um conjunto frequente\n",
    "\n",
    "Por exemplo:\n",
    "   se {i1,i2} é um conjunto frequente entao provavelmente {i1} e {i2} tambem devem ser conjuntos de items frequentes\n",
    "   \n",
    "- O algoritmo faz varias iteracoes em busca de itens frequentes e usa esses itens frequentes para gerar as regras de associacao\n",
    "\n",
    "Abaixo vemos a implementacao do algoritmo passo a passo"
   ]
  },
  {
   "cell_type": "markdown",
   "metadata": {},
   "source": [
    "---"
   ]
  },
  {
   "cell_type": "markdown",
   "metadata": {},
   "source": [
    "Antes de comecarmos com o algoritmo precisamos realizar a definicao das metricas"
   ]
  },
  {
   "cell_type": "code",
   "execution_count": 4,
   "metadata": {},
   "outputs": [],
   "source": [
    "def get_suporte(qtd_X, qtd_total):\n",
    "    '''\n",
    "    suporte = Numero de transacoes que um item aparece\n",
    "              ---------------------------------------\n",
    "              Numero total de transacoes\n",
    "    '''\n",
    "    return (qtd_X*1.0)/qtd_total\n",
    "\n",
    "def calc_confidence(I, s):\n",
    "    sup_s = gera_suporte_combinacoes(df_voting,[list(s)],SUP_THRESHOLD, create_rules=True)\n",
    "    sup_i = gera_suporte_combinacoes(df_voting,[list(I)],SUP_THRESHOLD, create_rules=True)\n",
    "    print\n",
    "    return (sup_i*1.0) /sup_s\n",
    "    "
   ]
  },
  {
   "cell_type": "markdown",
   "metadata": {},
   "source": [
    "## Passo 1  e  2"
   ]
  },
  {
   "cell_type": "markdown",
   "metadata": {},
   "source": [
    "> Passo 1. No primeiro passo vamos criar uma tabela com todos os counts individuais de cada votacao\n",
    "positiva para cada item, calculando tambem seu suporte\n",
    "\n",
    "> Passo 2. No segundo passo vamos apenas ficar com suportes acima de um determinado threshold para dar continuidade ao algoritmo"
   ]
  },
  {
   "cell_type": "code",
   "execution_count": 5,
   "metadata": {},
   "outputs": [],
   "source": [
    "SUP_THRESHOLD = 0.30\n",
    "CONF_TRESHOLD = 0.80"
   ]
  },
  {
   "cell_type": "code",
   "execution_count": 6,
   "metadata": {},
   "outputs": [],
   "source": [
    "def itens_distintos(df,SUP_THRESHOLD):\n",
    "    '''\n",
    "    1. Conta a quantidade de y e n em todas as colunas, pegando apenas y no final\n",
    "    e Transpondo para melhorar o entendimento da tabela\n",
    "    2. Adiciona uma coluna com o suporte calculado\n",
    "    3. Passa o threshold de suporte retornando apenas os itens acima do suporte\n",
    "    4. Retorna uma lista dos itens filtrados no passo 3\n",
    "    '''\n",
    "    #1.\n",
    "    countings = pd.DataFrame(df.apply(pd.Series.value_counts).T['y'])\n",
    "    #2.\n",
    "    countings['suporte'] = countings.apply(lambda k: get_suporte(k['y'], df_voting.shape[0]),axis=1)\n",
    "    #3.\n",
    "    countings = countings.loc[countings['suporte'] >= SUP_THRESHOLD]\n",
    "    return list(countings.index)"
   ]
  },
  {
   "cell_type": "markdown",
   "metadata": {},
   "source": [
    "## Passos 3 e 4"
   ]
  },
  {
   "cell_type": "markdown",
   "metadata": {},
   "source": [
    "> Passo 3 - a partir da lista gerada anteriormente geramos todas as combinacoes possiveis\n",
    "dentro do propio set (ordem nao importando) com numero de combinacoes = K"
   ]
  },
  {
   "cell_type": "code",
   "execution_count": 7,
   "metadata": {},
   "outputs": [],
   "source": [
    "def gera_combinacao(candidatos, k):\n",
    "    '''\n",
    "    A partir de uma lista gera todas as combinacoes possiveis de tamanho k\n",
    "    Ex:\n",
    "    para k = 2\n",
    "    F3 = {{1, 2, 3}, {1, 2, 4}, {1, 3, 4}, {1, 3, 5}, {2, 3, 4}}.\n",
    "    Alguns grupos gerados\n",
    "    1,2,3 e 1,2,4\n",
    "    1,2,3 e 1,3,4\n",
    "    1,2,3 e 1,3,5\n",
    "    ...\n",
    "    '''\n",
    "    #geramos todas as combinacoes possiveis de i para o resto da lista\n",
    "    #usando a funcao combinations de itertools\n",
    "    return [list(x) for x in itertools.combinations(candidatos, k)]\n"
   ]
  },
  {
   "cell_type": "code",
   "execution_count": 8,
   "metadata": {},
   "outputs": [],
   "source": [
    "def merge_lists(lista):\n",
    "    '''\n",
    "    recebe uma lista de listas e transforma em uma lista unica para facilitar a comparacao\n",
    "    '''\n",
    "    merged = list(itertools.chain(*lista))\n",
    "    return merged"
   ]
  },
  {
   "cell_type": "code",
   "execution_count": 9,
   "metadata": {},
   "outputs": [],
   "source": [
    "def compare_sets(f1,f2):\n",
    "    '''\n",
    "    compara dois sets de dados, retorna True se \n",
    "    os dois sets tem exatamente os mesmos items, caso contrario false\n",
    "    '''\n",
    "    #vamos verificar se tem apenas um elem diferente \n",
    "    #Temos apenas um elem diferente, vamos verificar se e o ultimo\n",
    "    #se o tamanho dos sets for igual e apenas o ultimo elem diferir\n",
    "    if (len(f1) == len(f2)) and (list(f1)[-1] != list(f2)[-1]) and ((list(f1)[:-1] == list(f2)[:-1])):\n",
    "        return True\n",
    "    else:\n",
    "        return False\n",
    "        "
   ]
  },
  {
   "cell_type": "code",
   "execution_count": 10,
   "metadata": {},
   "outputs": [],
   "source": [
    "def gera_suporte_combinacoes(df_voting,lista_combinacoes,SUP_THRESHOLD, create_rules=False):\n",
    "    '''\n",
    "    Essa funcao equivale as linhas 5 a 9 do slide 26 sobre regras de associacao\n",
    "    Basicamente a partir de uma serie de candidatos\n",
    "    itera um a um e mede o suporte, os mantendo apenas se a medicao ficar acima do threshold\n",
    "    setado\n",
    "    '''\n",
    "    qtd_total_votos = df_voting.shape[0]\n",
    "    combinacoes_uteis = []\n",
    "    #crio copia do dataframe original\n",
    "    for combinacao in lista_combinacoes:\n",
    "        #Apenas garantindo, na primeira iteracao os tipos podem ser diferentes\n",
    "        if type(combinacao) != list:\n",
    "            combinacao = [combinacao]\n",
    "        df = df_voting.copy()\n",
    "        #Conto para cada coluna a quantidade de vezes que um voto aparece\n",
    "        #usamos filtros sucessivos para isso\n",
    "        for col in combinacao:\n",
    "            df = df.loc[df[col]=='y']\n",
    "        #Medimos o suporte\n",
    "        suporte_par = get_suporte(df.shape[0],qtd_total_votos)\n",
    "        ##Para criacao das regras\n",
    "        if create_rules:\n",
    "            return suporte_par\n",
    "        if suporte_par >= SUP_THRESHOLD:\n",
    "            combinacoes_uteis.append(combinacao)\n",
    "    return combinacoes_uteis"
   ]
  },
  {
   "cell_type": "code",
   "execution_count": 13,
   "metadata": {},
   "outputs": [],
   "source": [
    "def candidate_gen(conj):\n",
    "    '''\n",
    "    Codigo representado no slide 27 (Regras de Associacao)\n",
    "    '''\n",
    "    #inicia um conjunto vazio\n",
    "    Ck = []\n",
    "    #Geramos todos os pares possiveis do conjunto em uso\n",
    "    #checar comentario em gera_combinacao()\n",
    "    todos_os_pares = gera_combinacao(conj, 2)\n",
    "    #apenas para evitar erro na primeira iteracao pois os pares nao vem como listas\n",
    "    if type(conj[0]) != list:\n",
    "        return todos_os_pares\n",
    "    #para cada para gerado comparamos usando a funcao compare_sets\n",
    "    #eh a comparacao explicada no slide 28 Passo Join\n",
    "    #Realiza passo de Juncao\n",
    "    for f1,f2 in todos_os_pares:\n",
    "        if compare_sets(f1,f2):\n",
    "            f1 = set(f1)\n",
    "            f2 = set(f2)\n",
    "            #Caso a juncao seja permitida junto os dois conjuntos\n",
    "            #slide 27, linha 7\n",
    "            set_to_join = list(f1.union(f2))\n",
    "            #Apenas um double check para evitar duplicidades no conjunto de candidatos\n",
    "            if set_to_join not in Ck and len(set_to_join) == len(f1)+1:\n",
    "                #Append na nova lista de candidatos possiveis\n",
    "                Ck.append(set_to_join)\n",
    "                #Passo de Poda\n",
    "                #Determina se todos os subsets de Ck estao na lista original de pares\n",
    "                #caso contrario remove da lista\n",
    "                for subset_ck in gera_combinacao(set_to_join, k=len(todos_os_pares[0][0])):\n",
    "                    if subset_ck not in merge_lists(todos_os_pares):\n",
    "                        Ck.remove(set_to_join)\n",
    "                        break\n",
    "                        \n",
    "    return Ck"
   ]
  },
  {
   "cell_type": "code",
   "execution_count": 14,
   "metadata": {},
   "outputs": [],
   "source": [
    "#primeira iteracao\n",
    "candidatos = itens_distintos(df_voting,SUP_THRESHOLD)\n",
    "Fk = []\n",
    "#Enquanto tivermos possiveis candidatos\n",
    "while candidatos:\n",
    "    #Gera candidatos \n",
    "    candidatos = candidate_gen(candidatos)\n",
    "    #Apenas candidatos com suporte acima do threshold sao selecionados\n",
    "    valid_candidatos = gera_suporte_combinacoes(df_voting,candidatos,SUP_THRESHOLD)\n",
    "    #Append na lista final de items frequentes com alto suporte\n",
    "    Fk.append(valid_candidatos)\n",
    "    #Atualiza candidatos para os novos serem gerados com base nesses\n",
    "    candidatos = valid_candidatos\n"
   ]
  },
  {
   "cell_type": "code",
   "execution_count": 16,
   "metadata": {},
   "outputs": [
    {
     "name": "stdout",
     "output_type": "stream",
     "text": [
      "Fk:  [[['p_1', 'p_3'], ['p_1', 'p_7'], ['p_1', 'p_8'], ['p_1', 'p_9'], ['p_1', 'p_16'], ['p_1', 'partido_democrat'], ['p_2', 'p_3'], ['p_2', 'p_5'], ['p_2', 'p_6'], ['p_2', 'p_13'], ['p_2', 'p_14'], ['p_2', 'p_16'], ['p_2', 'partido_democrat'], ['p_3', 'p_7'], ['p_3', 'p_8'], ['p_3', 'p_9'], ['p_3', 'p_10'], ['p_3', 'p_15'], ['p_3', 'p_16'], ['p_3', 'partido_democrat'], ['p_4', 'p_5'], ['p_4', 'p_6'], ['p_4', 'p_12'], ['p_4', 'p_13'], ['p_4', 'p_14'], ['p_4', 'partido_republican'], ['p_5', 'p_6'], ['p_5', 'p_12'], ['p_5', 'p_13'], ['p_5', 'p_14'], ['p_5', 'p_16'], ['p_5', 'partido_republican'], ['p_6', 'p_10'], ['p_6', 'p_12'], ['p_6', 'p_13'], ['p_6', 'p_14'], ['p_6', 'p_16'], ['p_6', 'partido_republican'], ['p_7', 'p_8'], ['p_7', 'p_9'], ['p_7', 'p_15'], ['p_7', 'p_16'], ['p_7', 'partido_democrat'], ['p_8', 'p_9'], ['p_8', 'p_15'], ['p_8', 'p_16'], ['p_8', 'partido_democrat'], ['p_9', 'p_15'], ['p_9', 'p_16'], ['p_9', 'partido_democrat'], ['p_10', 'p_14'], ['p_10', 'p_16'], ['p_11', 'p_16'], ['p_11', 'partido_democrat'], ['p_12', 'p_13'], ['p_12', 'p_14'], ['p_12', 'partido_republican'], ['p_13', 'p_14'], ['p_13', 'p_16'], ['p_13', 'partido_republican'], ['p_14', 'p_16'], ['p_14', 'partido_republican'], ['p_15', 'p_16'], ['p_15', 'partido_democrat'], ['p_16', 'partido_democrat']], [['p_1', 'p_3', 'p_7'], ['p_1', 'p_3', 'partido_democrat'], ['p_1', 'p_8', 'p_16'], ['p_1', 'p_8', 'partido_democrat'], ['p_1', 'p_9', 'p_16'], ['p_1', 'p_9', 'partido_democrat'], ['p_1', 'p_16', 'partido_democrat'], ['p_2', 'p_6', 'p_16'], ['p_13', 'p_14', 'p_16'], ['p_15', 'p_16', 'partido_democrat']], []]\n"
     ]
    }
   ],
   "source": [
    "print(\"Fk: \", Fk)"
   ]
  },
  {
   "cell_type": "code",
   "execution_count": 17,
   "metadata": {},
   "outputs": [],
   "source": [
    "def generate_rules(fk, CONF_TRESHOLD):\n",
    "    final_rules = []\n",
    "    for L in range(1, len(fk)):\n",
    "        for subset in itertools.combinations(fk, L):\n",
    "            I = set(fk)\n",
    "            s = set(subset)\n",
    "            confidence = calc_confidence(I,s)\n",
    "            if confidence > CONF_TRESHOLD:\n",
    "                rule = str('{} => {} = {}'.format(s, I-s, confidence))\n",
    "                final_rules.append(rule)\n",
    "    return final_rules\n",
    "            "
   ]
  },
  {
   "cell_type": "code",
   "execution_count": 18,
   "metadata": {},
   "outputs": [
    {
     "name": "stdout",
     "output_type": "stream",
     "text": [
      "Todas as regras geradas com confianca maior que 0.8\n",
      "{'p_1'} => {'p_3'} = 0.8163265306122449\n",
      "{'p_1'} => {'p_16'} = 0.9387755102040817\n",
      "{'p_1'} => {'partido_democrat'} = 0.8418367346938775\n",
      "{'p_2'} => {'p_16'} = 0.8477366255144033\n",
      "{'p_3'} => {'p_7'} = 0.8076923076923077\n",
      "{'p_7'} => {'p_3'} = 0.8502024291497977\n",
      "{'p_3'} => {'p_8'} = 0.8538461538461538\n",
      "{'p_8'} => {'p_3'} = 0.9024390243902439\n",
      "{'p_9'} => {'p_3'} = 0.8893805309734514\n",
      "{'p_15'} => {'p_3'} = 0.8842105263157894\n",
      "{'p_3'} => {'p_16'} = 0.9807692307692306\n",
      "{'p_3'} => {'partido_democrat'} = 0.9153846153846154\n",
      "{'partido_democrat'} => {'p_3'} = 0.8913857677902622\n",
      "{'p_4'} => {'p_5'} = 0.9500000000000001\n",
      "{'p_4'} => {'p_6'} = 0.9055555555555556\n",
      "{'p_4'} => {'p_12'} = 0.8555555555555556\n",
      "{'p_12'} => {'p_4'} = 0.8369565217391305\n",
      "{'p_4'} => {'p_13'} = 0.8666666666666667\n",
      "{'p_4'} => {'p_14'} = 0.9777777777777777\n",
      "{'p_4'} => {'partido_republican'} = 0.9222222222222223\n",
      "{'partido_republican'} => {'p_4'} = 0.9880952380952381\n",
      "{'p_5'} => {'p_6'} = 0.9302325581395349\n",
      "{'p_12'} => {'p_5'} = 0.8858695652173914\n",
      "{'p_5'} => {'p_13'} = 0.841860465116279\n",
      "{'p_13'} => {'p_5'} = 0.8264840182648401\n",
      "{'p_5'} => {'p_14'} = 0.944186046511628\n",
      "{'partido_republican'} => {'p_5'} = 0.9523809523809523\n",
      "{'p_12'} => {'p_6'} = 0.9293478260869565\n",
      "{'p_13'} => {'p_6'} = 0.8949771689497716\n",
      "{'p_6'} => {'p_14'} = 0.8102189781021899\n",
      "{'p_14'} => {'p_6'} = 0.8705882352941178\n",
      "{'partido_republican'} => {'p_6'} = 0.8988095238095238\n",
      "{'p_7'} => {'p_8'} = 0.8785425101214576\n",
      "{'p_8'} => {'p_7'} = 0.8821138211382114\n",
      "{'p_7'} => {'p_9'} = 0.8097165991902835\n",
      "{'p_9'} => {'p_7'} = 0.8849557522123894\n",
      "{'p_15'} => {'p_7'} = 0.8526315789473684\n",
      "{'p_7'} => {'p_16'} = 0.9919028340080972\n",
      "{'p_7'} => {'partido_democrat'} = 0.8421052631578948\n",
      "{'p_8'} => {'p_9'} = 0.8495934959349593\n",
      "{'p_9'} => {'p_8'} = 0.9247787610619469\n",
      "{'p_15'} => {'p_8'} = 0.8842105263157894\n",
      "{'p_8'} => {'p_16'} = 0.9918699186991871\n",
      "{'p_8'} => {'partido_democrat'} = 0.9024390243902439\n",
      "{'partido_democrat'} => {'p_8'} = 0.8314606741573034\n",
      "{'p_15'} => {'p_9'} = 0.8157894736842105\n",
      "{'p_9'} => {'p_16'} = 0.9823008849557523\n",
      "{'p_9'} => {'partido_democrat'} = 0.9159292035398231\n",
      "{'p_10'} => {'p_16'} = 0.8767123287671232\n",
      "{'p_11'} => {'p_16'} = 0.8950617283950616\n",
      "{'p_11'} => {'partido_democrat'} = 0.8703703703703702\n",
      "{'p_12'} => {'p_13'} = 0.8478260869565217\n",
      "{'p_12'} => {'p_14'} = 0.9510869565217391\n",
      "{'p_12'} => {'partido_republican'} = 0.8043478260869565\n",
      "{'partido_republican'} => {'p_12'} = 0.8809523809523809\n",
      "{'p_13'} => {'p_14'} = 0.8675799086757991\n",
      "{'partido_republican'} => {'p_13'} = 0.8690476190476191\n",
      "{'partido_republican'} => {'p_14'} = 0.9821428571428571\n",
      "{'p_15'} => {'p_16'} = 0.9684210526315788\n",
      "{'p_15'} => {'partido_democrat'} = 0.9263157894736842\n",
      "{'partido_democrat'} => {'p_16'} = 0.9550561797752808\n",
      "{'p_1', 'p_3'} => {'p_7'} = 0.8625\n",
      "{'p_1', 'p_7'} => {'p_3'} = 0.9019607843137256\n",
      "{'p_1', 'p_3'} => {'partido_democrat'} = 0.9437500000000001\n",
      "{'p_1', 'partido_democrat'} => {'p_3'} = 0.9151515151515153\n",
      "{'p_1', 'p_8'} => {'p_16'} = 0.9935483870967743\n",
      "{'p_1', 'p_16'} => {'p_8'} = 0.8369565217391305\n",
      "{'p_1', 'p_8'} => {'partido_democrat'} = 0.9290322580645161\n",
      "{'p_1', 'partido_democrat'} => {'p_8'} = 0.8727272727272728\n",
      "{'p_1', 'p_9'} => {'p_16'} = 0.9787234042553192\n",
      "{'p_1', 'p_9'} => {'partido_democrat'} = 0.9645390070921986\n",
      "{'p_1', 'partido_democrat'} => {'p_9'} = 0.8242424242424242\n",
      "{'p_1'} => {'partido_democrat', 'p_16'} = 0.8163265306122449\n",
      "{'p_1', 'p_16'} => {'partido_democrat'} = 0.8695652173913043\n",
      "{'p_1', 'partido_democrat'} => {'p_16'} = 0.9696969696969697\n",
      "{'p_13', 'p_16'} => {'p_14'} = 0.8271604938271605\n",
      "{'p_15'} => {'partido_democrat', 'p_16'} = 0.9052631578947368\n",
      "{'p_15', 'p_16'} => {'partido_democrat'} = 0.9347826086956522\n",
      "{'p_15', 'partido_democrat'} => {'p_16'} = 0.9772727272727273\n"
     ]
    }
   ],
   "source": [
    "print(\"Todas as regras geradas com confianca maior que {}\".format(CONF_TRESHOLD))\n",
    "all_rules = []\n",
    "for item in merge_lists(Fk):\n",
    "    all_rules.append(generate_rules(item,CONF_TRESHOLD))\n",
    "\n",
    "for item in merge_lists(all_rules):\n",
    "    print(item)"
   ]
  },
  {
   "cell_type": "code",
   "execution_count": null,
   "metadata": {},
   "outputs": [],
   "source": []
  }
 ],
 "metadata": {
  "kernelspec": {
   "display_name": "Python 3",
   "language": "python",
   "name": "python3"
  },
  "language_info": {
   "codemirror_mode": {
    "name": "ipython",
    "version": 3
   },
   "file_extension": ".py",
   "mimetype": "text/x-python",
   "name": "python",
   "nbconvert_exporter": "python",
   "pygments_lexer": "ipython3",
   "version": "3.5.2"
  }
 },
 "nbformat": 4,
 "nbformat_minor": 2
}

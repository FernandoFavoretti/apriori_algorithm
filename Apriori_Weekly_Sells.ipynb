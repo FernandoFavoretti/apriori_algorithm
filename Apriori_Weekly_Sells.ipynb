{
 "cells": [
  {
   "cell_type": "code",
   "execution_count": 190,
   "metadata": {},
   "outputs": [],
   "source": [
    "#lib para facilitar o uso de dataframes\n",
    "import pandas as pd\n",
    "#lib para facilitar alguns cálculos\n",
    "import numpy as np\n",
    "#Lib para auxiliar o processo de count\n",
    "from collections import Counter\n",
    "\n",
    "import itertools"
   ]
  },
  {
   "cell_type": "code",
   "execution_count": 191,
   "metadata": {},
   "outputs": [],
   "source": [
    "#lendo o csv com o dataset pronto\n",
    "df_sells = pd.read_csv('data/movies_ratings.csv')"
   ]
  },
  {
   "cell_type": "code",
   "execution_count": 192,
   "metadata": {},
   "outputs": [
    {
     "data": {
      "text/html": [
       "<div>\n",
       "<style scoped>\n",
       "    .dataframe tbody tr th:only-of-type {\n",
       "        vertical-align: middle;\n",
       "    }\n",
       "\n",
       "    .dataframe tbody tr th {\n",
       "        vertical-align: top;\n",
       "    }\n",
       "\n",
       "    .dataframe thead th {\n",
       "        text-align: right;\n",
       "    }\n",
       "</style>\n",
       "<table border=\"1\" class=\"dataframe\">\n",
       "  <thead>\n",
       "    <tr style=\"text-align: right;\">\n",
       "      <th></th>\n",
       "      <th>318</th>\n",
       "      <th>356</th>\n",
       "      <th>296</th>\n",
       "      <th>593</th>\n",
       "      <th>260</th>\n",
       "      <th>2571</th>\n",
       "      <th>527</th>\n",
       "      <th>480</th>\n",
       "      <th>1196</th>\n",
       "      <th>1</th>\n",
       "      <th>...</th>\n",
       "      <th>377</th>\n",
       "      <th>3578</th>\n",
       "      <th>1265</th>\n",
       "      <th>1240</th>\n",
       "      <th>1193</th>\n",
       "      <th>1136</th>\n",
       "      <th>1097</th>\n",
       "      <th>648</th>\n",
       "      <th>1221</th>\n",
       "      <th>1291</th>\n",
       "    </tr>\n",
       "  </thead>\n",
       "  <tbody>\n",
       "    <tr>\n",
       "      <th>0</th>\n",
       "      <td>n</td>\n",
       "      <td>y</td>\n",
       "      <td>y</td>\n",
       "      <td>y</td>\n",
       "      <td>n</td>\n",
       "      <td>n</td>\n",
       "      <td>y</td>\n",
       "      <td>y</td>\n",
       "      <td>n</td>\n",
       "      <td>n</td>\n",
       "      <td>...</td>\n",
       "      <td>y</td>\n",
       "      <td>n</td>\n",
       "      <td>n</td>\n",
       "      <td>n</td>\n",
       "      <td>n</td>\n",
       "      <td>n</td>\n",
       "      <td>n</td>\n",
       "      <td>n</td>\n",
       "      <td>n</td>\n",
       "      <td>n</td>\n",
       "    </tr>\n",
       "    <tr>\n",
       "      <th>1</th>\n",
       "      <td>y</td>\n",
       "      <td>y</td>\n",
       "      <td>y</td>\n",
       "      <td>y</td>\n",
       "      <td>n</td>\n",
       "      <td>n</td>\n",
       "      <td>y</td>\n",
       "      <td>n</td>\n",
       "      <td>n</td>\n",
       "      <td>n</td>\n",
       "      <td>...</td>\n",
       "      <td>y</td>\n",
       "      <td>n</td>\n",
       "      <td>n</td>\n",
       "      <td>n</td>\n",
       "      <td>n</td>\n",
       "      <td>n</td>\n",
       "      <td>n</td>\n",
       "      <td>n</td>\n",
       "      <td>n</td>\n",
       "      <td>n</td>\n",
       "    </tr>\n",
       "    <tr>\n",
       "      <th>2</th>\n",
       "      <td>n</td>\n",
       "      <td>y</td>\n",
       "      <td>y</td>\n",
       "      <td>n</td>\n",
       "      <td>y</td>\n",
       "      <td>n</td>\n",
       "      <td>n</td>\n",
       "      <td>y</td>\n",
       "      <td>y</td>\n",
       "      <td>n</td>\n",
       "      <td>...</td>\n",
       "      <td>n</td>\n",
       "      <td>n</td>\n",
       "      <td>y</td>\n",
       "      <td>y</td>\n",
       "      <td>n</td>\n",
       "      <td>y</td>\n",
       "      <td>y</td>\n",
       "      <td>n</td>\n",
       "      <td>n</td>\n",
       "      <td>y</td>\n",
       "    </tr>\n",
       "    <tr>\n",
       "      <th>3</th>\n",
       "      <td>n</td>\n",
       "      <td>y</td>\n",
       "      <td>n</td>\n",
       "      <td>n</td>\n",
       "      <td>n</td>\n",
       "      <td>n</td>\n",
       "      <td>n</td>\n",
       "      <td>n</td>\n",
       "      <td>n</td>\n",
       "      <td>n</td>\n",
       "      <td>...</td>\n",
       "      <td>y</td>\n",
       "      <td>n</td>\n",
       "      <td>n</td>\n",
       "      <td>n</td>\n",
       "      <td>y</td>\n",
       "      <td>n</td>\n",
       "      <td>n</td>\n",
       "      <td>n</td>\n",
       "      <td>y</td>\n",
       "      <td>n</td>\n",
       "    </tr>\n",
       "    <tr>\n",
       "      <th>4</th>\n",
       "      <td>y</td>\n",
       "      <td>y</td>\n",
       "      <td>n</td>\n",
       "      <td>n</td>\n",
       "      <td>y</td>\n",
       "      <td>n</td>\n",
       "      <td>n</td>\n",
       "      <td>y</td>\n",
       "      <td>y</td>\n",
       "      <td>y</td>\n",
       "      <td>...</td>\n",
       "      <td>y</td>\n",
       "      <td>n</td>\n",
       "      <td>n</td>\n",
       "      <td>y</td>\n",
       "      <td>n</td>\n",
       "      <td>y</td>\n",
       "      <td>y</td>\n",
       "      <td>n</td>\n",
       "      <td>n</td>\n",
       "      <td>y</td>\n",
       "    </tr>\n",
       "  </tbody>\n",
       "</table>\n",
       "<p>5 rows × 50 columns</p>\n",
       "</div>"
      ],
      "text/plain": [
       "  318 356 296 593 260 2571 527 480 1196  1 ...  377 3578 1265 1240 1193 1136  \\\n",
       "0   n   y   y   y   n    n   y   y    n  n ...    y    n    n    n    n    n   \n",
       "1   y   y   y   y   n    n   y   n    n  n ...    y    n    n    n    n    n   \n",
       "2   n   y   y   n   y    n   n   y    y  n ...    n    n    y    y    n    y   \n",
       "3   n   y   n   n   n    n   n   n    n  n ...    y    n    n    n    y    n   \n",
       "4   y   y   n   n   y    n   n   y    y  y ...    y    n    n    y    n    y   \n",
       "\n",
       "  1097 648 1221 1291  \n",
       "0    n   n    n    n  \n",
       "1    n   n    n    n  \n",
       "2    y   n    n    y  \n",
       "3    n   n    y    n  \n",
       "4    y   n    n    y  \n",
       "\n",
       "[5 rows x 50 columns]"
      ]
     },
     "execution_count": 192,
     "metadata": {},
     "output_type": "execute_result"
    }
   ],
   "source": [
    "#Confirmando o formato dos dados\n",
    "df_sells.head()"
   ]
  },
  {
   "cell_type": "markdown",
   "metadata": {},
   "source": [
    "# Regras de associacao"
   ]
  },
  {
   "cell_type": "markdown",
   "metadata": {},
   "source": [
    "Regras de associacao sao tecnicas de mineiracao de dados usadas para descobrir associacoes interessantes entre atributos de um determinado banco de dados.\n",
    "A definicao classica de regras de associacao foi apresentada em Agrawal, Imielinski, & Swami (1993) and Han & Kamber, (2006)), e e definida como o seguinte:\n",
    "\n",
    "Seja T {t1,t2...tn} um conjunto de transacoes e I {i1,i2...in} um conjunto de itens, definimos D como o dado relevante para a tarefa sendo um conjunto de transacoes onde cada T e um conjunto de itens de maneira que T seja um subconjunto de I.\n",
    "\n",
    "Uma regra de associacao tem a forma X -> Y, onde X e Y sao conjuntos disjuntos"
   ]
  },
  {
   "cell_type": "markdown",
   "metadata": {},
   "source": [
    "Em nosso dataset as transacoes T representao o conjunto de votos de cada representante, e os Itens representao a reposta ao voto para cada projeto."
   ]
  },
  {
   "cell_type": "markdown",
   "metadata": {},
   "source": [
    "O algoritmo aprior é usado para encontrar conjuntos frequentes de items em databases como o nosso.\n",
    "Ele funciona com a afirmativa que:\n",
    "> Um sub conjunto de um conjunto frequente provavelmente e trambem um conjunto frequente\n",
    "\n",
    "Por exemplo:\n",
    "   se {i1,i2} é um conjunto frequente entao provavelmente {i1} e {i2} tambem devem ser conjuntos de items frequentes\n",
    "   \n",
    "- O algoritmo faz varias iteracoes em busca de itens frequentes e usa esses itens frequentes para gerar as regras de associacao\n",
    "\n",
    "Abaixo vemos a implementacao do algoritmo passo a passo"
   ]
  },
  {
   "cell_type": "markdown",
   "metadata": {},
   "source": [
    "---"
   ]
  },
  {
   "cell_type": "markdown",
   "metadata": {},
   "source": [
    "Antes de comecarmos com o algoritmo precisamos realizar a definicao das metricas"
   ]
  },
  {
   "cell_type": "code",
   "execution_count": 193,
   "metadata": {},
   "outputs": [],
   "source": [
    "def get_suporte(qtd_X, qtd_total):\n",
    "    '''\n",
    "    suporte = Numero de transacoes que um item aparece\n",
    "              ---------------------------------------\n",
    "              Numero total de transacoes\n",
    "    '''\n",
    "    return (qtd_X*1.0)/qtd_total\n"
   ]
  },
  {
   "cell_type": "markdown",
   "metadata": {},
   "source": [
    "## Passo 1  e  2"
   ]
  },
  {
   "cell_type": "markdown",
   "metadata": {},
   "source": [
    "> Passo 1. No primeiro passo vamos criar uma tabela com todos os counts individuais de cada votacao\n",
    "positiva para cada item, calculando tambem seu suporte\n",
    "\n",
    "> Passo 2. No segundo passo vamos apenas ficar com suportes acima de um determinado threshold para dar continuidade ao algoritmo"
   ]
  },
  {
   "cell_type": "code",
   "execution_count": 208,
   "metadata": {},
   "outputs": [],
   "source": [
    "SUP_THRESHOLD = 0.5\n",
    "CONF_TRESHOLD = 0.70"
   ]
  },
  {
   "cell_type": "code",
   "execution_count": 209,
   "metadata": {},
   "outputs": [],
   "source": [
    "def itens_distintos(df,SUP_THRESHOLD):\n",
    "    '''\n",
    "    1. Conta a quantidade de y e n em todas as colunas, pegando apenas y no final\n",
    "    e Transpondo para melhorar o entendimento da tabela\n",
    "    2. Adiciona uma coluna com o suporte calculado\n",
    "    3. Passa o threshold de suporte retornando apenas os itens acima do suporte\n",
    "    4. Retorna uma lista dos itens filtrados no passo 3\n",
    "    '''\n",
    "    #1.\n",
    "    countings = pd.DataFrame(df.apply(pd.Series.value_counts).T['y'])\n",
    "    #2.\n",
    "    countings['suporte'] = countings.apply(lambda k: get_suporte(k['y'], df_sells.shape[0]),axis=1)\n",
    "    #3.\n",
    "    countings = countings.loc[countings['suporte'] >= SUP_THRESHOLD]\n",
    "    return list(countings.index)"
   ]
  },
  {
   "cell_type": "markdown",
   "metadata": {},
   "source": [
    "## Passos 3 e 4"
   ]
  },
  {
   "cell_type": "markdown",
   "metadata": {},
   "source": [
    "> Passo 3 - a partir da lista gerada anteriormente geramos todas as combinacoes possiveis\n",
    "dentro do propio set (ordem nao importando) com numero de combinacoes = K"
   ]
  },
  {
   "cell_type": "code",
   "execution_count": 210,
   "metadata": {},
   "outputs": [],
   "source": [
    "def gera_combinacao(candidatos, k):\n",
    "    '''\n",
    "    A partir de uma lista gera todas as combinacoes possiveis de tamanho k\n",
    "    Ex:\n",
    "    para k = 2\n",
    "    F3 = {{1, 2, 3}, {1, 2, 4}, {1, 3, 4}, {1, 3, 5}, {2, 3, 4}}.\n",
    "    Alguns grupos gerados\n",
    "    1,2,3 e 1,2,4\n",
    "    1,2,3 e 1,3,4\n",
    "    1,2,3 e 1,3,5\n",
    "    ...\n",
    "    '''\n",
    "    #geramos todas as combinacoes possiveis de i para o resto da lista\n",
    "    #usando a funcao combinations de itertools\n",
    "    return [list(x) for x in itertools.combinations(candidatos, k)]\n"
   ]
  },
  {
   "cell_type": "code",
   "execution_count": 211,
   "metadata": {},
   "outputs": [],
   "source": [
    "#candidatos = itens_distintos(df_voting)\n",
    "#novos_candidatos = gera_combinacao(candidatos, k=2)"
   ]
  },
  {
   "cell_type": "code",
   "execution_count": 212,
   "metadata": {},
   "outputs": [],
   "source": [
    "def merge_lists(lista):\n",
    "    '''\n",
    "    recebe uma lista de listas e transforma em uma lista unica para facilitar a comparacao\n",
    "    '''\n",
    "    merged = list(itertools.chain(*lista))\n",
    "    return merged"
   ]
  },
  {
   "cell_type": "code",
   "execution_count": 213,
   "metadata": {},
   "outputs": [],
   "source": [
    "def compare_sets(f1,f2):\n",
    "    '''\n",
    "    compara dois sets de dados, retorna True se \n",
    "    os dois sets tem exatamente os mesmos items, caso contrario false\n",
    "    '''\n",
    "    #vamos verificar se tem apenas um elem diferente \n",
    "    #Temos apenas um elem diferente, vamos verificar se e o ultimo\n",
    "    #se o tamanho dos sets for igual e apenas o ultimo elem diferir\n",
    "    if (len(f1) == len(f2)) and (list(f1)[-1] != list(f2)[-1]) and ((list(f1)[:-1] == list(f2)[:-1])):\n",
    "        return True\n",
    "    else:\n",
    "        return False\n",
    "        "
   ]
  },
  {
   "cell_type": "code",
   "execution_count": 214,
   "metadata": {},
   "outputs": [],
   "source": [
    "def gera_suporte_combinacoes(df_voting,lista_combinacoes,SUP_THRESHOLD, create_rules=False):\n",
    "    '''\n",
    "    Essa funcao equivale as linhas 5 a 9 do slide 26 sobre regras de associacao\n",
    "    Basicamente a partir de uma serie de candidatos\n",
    "    itera um a um e mede o suporte, os mantendo apenas se a medicao ficar acima do threshold\n",
    "    setado\n",
    "    '''\n",
    "    qtd_total_votos = df_voting.shape[0]\n",
    "    combinacoes_uteis = []\n",
    "    #crio copia do dataframe original\n",
    "    for combinacao in lista_combinacoes:\n",
    "        #Apenas garantindo, na primeira iteracao os tipos podem ser diferentes\n",
    "        if type(combinacao) != list:\n",
    "            combinacao = [combinacao]\n",
    "        df = df_voting.copy()\n",
    "        #Conto para cada coluna a quantidade de vezes que um voto aparece\n",
    "        #usamos filtros sucessivos para isso\n",
    "        for col in combinacao:\n",
    "            df = df.loc[df[col]=='y']\n",
    "        #Medimos o suporte\n",
    "        suporte_par = get_suporte(df.shape[0],qtd_total_votos)\n",
    "        ##Para criacao das regras\n",
    "        if create_rules:\n",
    "            return suporte_par\n",
    "        if suporte_par >= SUP_THRESHOLD:\n",
    "            combinacoes_uteis.append(combinacao)\n",
    "    return combinacoes_uteis"
   ]
  },
  {
   "cell_type": "code",
   "execution_count": 215,
   "metadata": {},
   "outputs": [],
   "source": [
    "def candidate_gen(conj):\n",
    "    '''\n",
    "    Codigo representado no slide 27 (Regras de Associacao)\n",
    "    '''\n",
    "    #inicia um conjunto vazio\n",
    "    Ck = []\n",
    "    #Geramos todos os pares possiveis do conjunto em uso\n",
    "    #checar comentario em gera_combinacao()\n",
    "    todos_os_pares = gera_combinacao(conj, 2)\n",
    "    #apenas para evitar erro na primeira iteracao pois os pares nao vem como listas\n",
    "    if type(conj[0]) != list:\n",
    "        return todos_os_pares\n",
    "    #para cada para gerado comparamos usando a funcao compare_sets\n",
    "    #eh a comparacao explicada no slide 28 Passo Join\n",
    "    #Realiza passo de Juncao\n",
    "    for f1,f2 in todos_os_pares:\n",
    "        if compare_sets(f1,f2):\n",
    "            f1 = set(f1)\n",
    "            f2 = set(f2)\n",
    "            #Caso a juncao seja permitida junto os dois conjuntos\n",
    "            #slide 27, linha 7\n",
    "            set_to_join = list(f1.union(f2))\n",
    "            #Apenas um double check para evitar duplicidades no conjunto de candidatos\n",
    "            if set_to_join not in Ck and len(set_to_join) == len(f1)+1:\n",
    "                #Append na nova lista de candidatos possiveis\n",
    "                Ck.append(set_to_join)\n",
    "                #Passo de Poda\n",
    "                #Determina se todos os subsets de Ck estao na lista original de pares\n",
    "                #caso contrario remove da lista\n",
    "                for subset_ck in gera_combinacao(set_to_join, k=len(todos_os_pares[0][0])):\n",
    "                    if subset_ck not in merge_lists(todos_os_pares):\n",
    "                        Ck.remove(set_to_join)\n",
    "                        break\n",
    "                        \n",
    "    return Ck"
   ]
  },
  {
   "cell_type": "code",
   "execution_count": 216,
   "metadata": {},
   "outputs": [
    {
     "name": "stdout",
     "output_type": "stream",
     "text": [
      "14\n",
      "6\n"
     ]
    }
   ],
   "source": [
    "#primeira iteracao\n",
    "candidatos = itens_distintos(df_sells,SUP_THRESHOLD)\n",
    "Fk = []\n",
    "#Enquanto tivermos possiveis candidatos\n",
    "while candidatos:\n",
    "    print(len(candidatos))\n",
    "    #Gera candidatos \n",
    "    candidatos = candidate_gen(candidatos)\n",
    "    #Apenas candidatos com suporte acima do threshold sao selecionados\n",
    "    valid_candidatos = gera_suporte_combinacoes(df_sells,candidatos,SUP_THRESHOLD)\n",
    "    #Append na lista final de items frequentes com alto suporte\n",
    "    Fk.append(valid_candidatos)\n",
    "    #Atualiza candidatos para os novos serem gerados com base nesses\n",
    "    candidatos = valid_candidatos\n"
   ]
  },
  {
   "cell_type": "code",
   "execution_count": 217,
   "metadata": {},
   "outputs": [
    {
     "data": {
      "text/plain": [
       "[[['318', '356'],\n",
       "  ['318', '296'],\n",
       "  ['356', '296'],\n",
       "  ['356', '593'],\n",
       "  ['356', '480'],\n",
       "  ['296', '593']],\n",
       " []]"
      ]
     },
     "execution_count": 217,
     "metadata": {},
     "output_type": "execute_result"
    }
   ],
   "source": [
    "Fk"
   ]
  },
  {
   "cell_type": "code",
   "execution_count": 218,
   "metadata": {},
   "outputs": [],
   "source": [
    "def calc_confidence(I, s):\n",
    "    sup_s = gera_suporte_combinacoes(df_sells,[list(s)],SUP_THRESHOLD, create_rules=True)\n",
    "    sup_i = gera_suporte_combinacoes(df_sells,[list(I)],SUP_THRESHOLD, create_rules=True)\n",
    "    print\n",
    "    return (sup_i*1.0) /sup_s\n",
    "    "
   ]
  },
  {
   "cell_type": "code",
   "execution_count": 219,
   "metadata": {},
   "outputs": [],
   "source": [
    "def generate_rules(fk, CONF_TRESHOLD):\n",
    "    final_rules = []\n",
    "    for L in range(1, len(fk)):\n",
    "        for subset in itertools.combinations(fk, L):\n",
    "            I = set(fk)\n",
    "            s = set(subset)\n",
    "            confidence = calc_confidence(I,s)\n",
    "            if confidence > CONF_TRESHOLD:\n",
    "                rule = str('{} => {} = {}'.format(s, I-s, confidence))\n",
    "                final_rules.append(rule)\n",
    "    return final_rules\n",
    "            "
   ]
  },
  {
   "cell_type": "code",
   "execution_count": 220,
   "metadata": {},
   "outputs": [
    {
     "name": "stdout",
     "output_type": "stream",
     "text": [
      "{'318'} => {'356'} = 0.7879999999999999\n",
      "{'318'} => {'296'} = 0.7719999999999999\n",
      "{'296'} => {'318'} = 0.7228464419475654\n",
      "{'356'} => {'296'} = 0.7285223367697594\n",
      "{'296'} => {'356'} = 0.7940074906367041\n",
      "{'593'} => {'356'} = 0.7984189723320158\n",
      "{'480'} => {'356'} = 0.8451882845188284\n",
      "{'296'} => {'593'} = 0.7602996254681648\n",
      "{'593'} => {'296'} = 0.8023715415019762\n"
     ]
    }
   ],
   "source": [
    "all_rules = []\n",
    "for item in merge_lists(Fk):\n",
    "    all_rules.append(generate_rules(item,CONF_TRESHOLD))\n",
    "\n",
    "for item in merge_lists(all_rules):\n",
    "    print(item)"
   ]
  },
  {
   "cell_type": "code",
   "execution_count": null,
   "metadata": {},
   "outputs": [],
   "source": []
  }
 ],
 "metadata": {
  "kernelspec": {
   "display_name": "Python 3",
   "language": "python",
   "name": "python3"
  },
  "language_info": {
   "codemirror_mode": {
    "name": "ipython",
    "version": 3
   },
   "file_extension": ".py",
   "mimetype": "text/x-python",
   "name": "python",
   "nbconvert_exporter": "python",
   "pygments_lexer": "ipython3",
   "version": "3.6.4"
  }
 },
 "nbformat": 4,
 "nbformat_minor": 2
}
